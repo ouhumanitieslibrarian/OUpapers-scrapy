{
 "cells": [
  {
   "cell_type": "markdown",
   "metadata": {},
   "source": [
    "# Scraping Papers Data for Multiple Subjects from the OU Papers Web"
   ]
  },
  {
   "cell_type": "markdown",
   "metadata": {},
   "source": [
    "### Import the Libraries again"
   ]
  },
  {
   "cell_type": "code",
   "execution_count": 11,
   "metadata": {
    "ExecuteTime": {
     "end_time": "2019-12-05T22:15:57.669174Z",
     "start_time": "2019-12-05T22:15:57.662671Z"
    }
   },
   "outputs": [],
   "source": [
    "# Import 'requests', a library to help retrieve web pages\n",
    "import requests\n",
    "#Import the csv library for outputting the table data\n",
    "import csv\n",
    "# BeautifulSoup can parse web page structure, much like a web browser does\n",
    "from bs4 import BeautifulSoup"
   ]
  },
  {
   "cell_type": "markdown",
   "metadata": {},
   "source": [
    "### Add the Names of all your Subjects"
   ]
  },
  {
   "cell_type": "code",
   "execution_count": 12,
   "metadata": {
    "ExecuteTime": {
     "end_time": "2019-12-05T22:16:01.736888Z",
     "start_time": "2019-12-05T22:16:01.730898Z"
    },
    "scrolled": true
   },
   "outputs": [
    {
     "name": "stdout",
     "output_type": "stream",
     "text": [
      "('soci', 'anth', 'sowk', 'geog', 'gend', 'crim')\n"
     ]
    }
   ],
   "source": [
    "# Store the names of the subject codes you want to check in a variable - subjects\n",
    "subjects = (\"soci\", \"anth\", \"sowk\", \"geog\", \"gend\", \"crim\")\n",
    "print (subjects)"
   ]
  },
  {
   "cell_type": "markdown",
   "metadata": {},
   "source": [
    "### Create the Search URLS for all your Subjects"
   ]
  },
  {
   "cell_type": "markdown",
   "metadata": {},
   "source": [
    "This is the second second section"
   ]
  },
  {
   "cell_type": "code",
   "execution_count": 13,
   "metadata": {
    "ExecuteTime": {
     "end_time": "2019-12-05T22:16:14.957534Z",
     "start_time": "2019-12-05T22:16:14.950901Z"
    }
   },
   "outputs": [
    {
     "name": "stdout",
     "output_type": "stream",
     "text": [
      "['https://www.otago.ac.nz/courses/papers/index.html?subjcode=*&papercode=soci&keywords=&period=&year=&distance=&lms=&submit=Search', 'https://www.otago.ac.nz/courses/papers/index.html?subjcode=*&papercode=anth&keywords=&period=&year=&distance=&lms=&submit=Search', 'https://www.otago.ac.nz/courses/papers/index.html?subjcode=*&papercode=sowk&keywords=&period=&year=&distance=&lms=&submit=Search', 'https://www.otago.ac.nz/courses/papers/index.html?subjcode=*&papercode=geog&keywords=&period=&year=&distance=&lms=&submit=Search', 'https://www.otago.ac.nz/courses/papers/index.html?subjcode=*&papercode=gend&keywords=&period=&year=&distance=&lms=&submit=Search', 'https://www.otago.ac.nz/courses/papers/index.html?subjcode=*&papercode=crim&keywords=&period=&year=&distance=&lms=&submit=Search']\n"
     ]
    }
   ],
   "source": [
    "# Use an 'accumulator pattern' to gather the variations of URL search including the different subjects\n",
    "# make an empty list, then add the URLs to it one by one\n",
    "subject_papers_search_urls = []\n",
    "\n",
    "for item in subjects:\n",
    "    url_ending = item + '&keywords=&period=&year=&distance=&lms=&submit=Search' \n",
    "## code for adding to the search end ?subjcode=*&papercode=musi&keywords=&period=&year=&distance=&lms=&submit=Search'\n",
    "    subject_papers_search_urls.append('https://www.otago.ac.nz/courses/papers/index.html?subjcode=*&papercode=' + url_ending)\n",
    "\n",
    "print(subject_papers_search_urls)"
   ]
  },
  {
   "cell_type": "code",
   "execution_count": 14,
   "metadata": {
    "ExecuteTime": {
     "end_time": "2019-12-05T22:16:16.584027Z",
     "start_time": "2019-12-05T22:16:16.573735Z"
    }
   },
   "outputs": [],
   "source": [
    "#Create and open a file called Paper_Results_Test1.csv in append mode 'a' as a binary 'b'  \n",
    "with open(\"CombinedPaper_Results_Test.csv\", \"w\", encoding=\"utf-8\", newline='\\n') as fd:  \n",
    "    fieldnames = [Paper_code, Year, Title, Points, Teaching_period]\n",
    "    csvwriter = csv.writer(fd)\n",
    "    csvwriter.writerow([\"Paper code\", \"Year\", \"Title\", \"Points\", \"Teaching period\"])"
   ]
  },
  {
   "cell_type": "code",
   "execution_count": 15,
   "metadata": {
    "ExecuteTime": {
     "end_time": "2019-12-05T22:16:42.322646Z",
     "start_time": "2019-12-05T22:16:34.451142Z"
    },
    "jupyter": {
     "outputs_hidden": true
    }
   },
   "outputs": [
    {
     "name": "stdout",
     "output_type": "stream",
     "text": [
      "200\n",
      "<!DOCTYPE html>\n",
      "<!--[if lt IE 7]>      <html class=\"no-js lt-ie9 lt-ie8 lt-ie7\" lang=\"en-NZ\"> <![endif]-->\n",
      "<!--[if IE 7]>         <html class=\"no-js lt-ie9 lt-ie8 lang=\"en-NZ\"\"> <![endif]-->\n",
      "<!--[if IE 8]>         <html class=\"no-js lt-ie9\" lang=\"en-NZ\"> <![endif]-->\n",
      "<!--[if gt IE 8]><!--> <html\n",
      "SOCI101 2020 Sociology of New Zealand Society 18 points First Semester\n",
      "SOCI102 2020 Cultural and Social Identities 18 points Second Semester\n",
      "SOCI103 2020 Crime, Deviance and Social Transformation 18 points Second Semester\n",
      "SOCI201 2020 Sociological Research in Practice 18 points First Semester\n",
      "SOCI202 2020 Big Ideas in Sociology 18 points First Semester\n",
      "SOCI203 2020 Young People and Society 18 points Second Semester\n",
      "SOCI204 2020 Special Topic: Sociology of Health 18 points Second Semester\n",
      "SOCI205 2020 Social Inequality 18 points Second Semester\n",
      "SOCI207 2020 Families and Society 18 points Second Semester\n",
      "SOCI208 2020 Environmental Sociology 18 points First Semester\n",
      "SOCI213 2020 Concepts of the Self 18 points Not offered, expected to be offered in 2021\n",
      "SOCI301 2020 Mixed Methods 18 points Second Semester\n",
      "SOCI302 2020 Theories of Social Power 18 points Second Semester\n",
      "SOCI304 2020 Special Topic: Crime, Culture and Technology 18 points Not offered, expected to be offered in 2021\n",
      "SOCI305 2020 Family Demography 18 points First Semester\n",
      "SOCI306 2020 Public Sociology 18 points Second Semester\n",
      "SOCI309 2020 Special Topic 2: Science, Technology and Post-capitalist Futures 18 points Not offered in 2020\n",
      "SOCI310 2020 Social Movements and Popular Protest 18 points Second Semester\n",
      "SOCI313 2020 The Subject in Postmodern Society 18 points First Semester\n",
      "SOCI319 2020 The Global Politics of Food 18 points First Semester\n",
      "SOCI401 2020 Qualitative Research Ethics 20 points Second Semester\n",
      "SOCI402 2020 Advanced Sociological Theory 20 points Second Semester\n",
      "SOCI403 2020 Micro-Sociology 20 points Not offered, expected to be offered in 2021\n",
      "SOCI404 2020 Special Topic 20 points Not offered in 2020\n",
      "SOCI409 2020 Special Topic: Pathways to Parenthood 20 points Not offered, expected to be offered in 2022\n",
      "SOCI410 2020 Alternative Futures 20 points First Semester\n",
      "SOCI490 2020 Dissertation 60 points Full Year\n",
      "SOCI590 2020 Research Dissertation 60 points 1st Non standard period, 2nd Non standard period\n",
      "200\n",
      "<!DOCTYPE html>\n",
      "<!--[if lt IE 7]>      <html class=\"no-js lt-ie9 lt-ie8 lt-ie7\" lang=\"en-NZ\"> <![endif]-->\n",
      "<!--[if IE 7]>         <html class=\"no-js lt-ie9 lt-ie8 lang=\"en-NZ\"\"> <![endif]-->\n",
      "<!--[if IE 8]>         <html class=\"no-js lt-ie9\" lang=\"en-NZ\"> <![endif]-->\n",
      "<!--[if gt IE 8]><!--> <html\n",
      "ANTH103 2020 Introduction to Anthropology 18 points First Semester\n",
      "ANTH105 2020 Global and Local Cultures 18 points Second Semester\n",
      "ANTH106 2020 Human Origins and Civilisations 18 points Second Semester\n",
      "ANTH203 2020 Asian Archaeology 18 points Second Semester\n",
      "ANTH204 2020 Pacific and New Zealand Archaeology 18 points First Semester\n",
      "ANTH205 2020 Anthropology and the Contemporary Pacific 18 points Not offered, expected to be offered in 2021\n",
      "ANTH206 2020 Anthropology of Contemporary Issues 18 points Second Semester\n",
      "ANTH208 2020 Archaeological Methods 18 points First Semester\n",
      "ANTH209 2020 Special Topic 18 points Not offered in 2020\n",
      "ANTH210 2020 Translating Culture 18 points Not offered, expected to be offered in 2021\n",
      "ANTH211 2020 Contemporary Ethnographic Research 18 points First Semester\n",
      "ANTH216 2020 Archaeology of the Modern World 18 points Second Semester\n",
      "ANTH222 2020 Conceiving Reproduction 18 points Second Semester\n",
      "ANTH223 2020 Anthropology of Health 18 points Not offered, expected to be offered in 2021\n",
      "ANTH225 2020 Rites of Passage: Death, Grief and Ritual 18 points Not offered, expected to be offered in 2021\n",
      "ANTH228 2020 Anthropology of Religion and the Supernatural 18 points Second Semester\n",
      "ANTH310 2020 Special Topic 18 points Not offered in 2020\n",
      "ANTH312 2020 Cultural Politics 18 points First Semester\n",
      "ANTH316 2020 Labour and Society 18 points Not offered, expected to be offered in 2023\n",
      "ANTH321 2020 Archaeozoology 18 points First Semester\n",
      "ANTH322 2020 Conceiving Reproduction 18 points Second Semester\n",
      "ANTH323 2020 Anthropology of Health 18 points Not offered, expected to be offered in 2021\n",
      "ANTH324 2020 Archaeological Practice 18 points Second Semester\n",
      "ANTH325 2020 Rites of Passage: Death, Grief and Ritual 18 points Not offered, expected to be offered in 2021\n",
      "ANTH326 2020 Special Topic: Sex and Culture 18 points Not offered, expected to be offered in 2022\n",
      "ANTH327 2020 Anthropology of Money 18 points First Semester\n",
      "ANTH328 2020 Anthropology of Religion and the Supernatural 18 points Second Semester\n",
      "ANTH329 2020 Landscape Archaeology 18 points Second Semester\n",
      "ANTH330 2020 New Zealand Archaeology 18 points First Semester\n",
      "ANTH331 2020 The Emergence of Agriculture: an Archaeological Journey 18 points Second Semester\n",
      "ANTH405 2020 Archaeological Excavation 20 points 1st Non standard period\n",
      "ANTH409 2020 Material Culture Studies 20 points Full Year\n",
      "ANTH410 2020 Special Topic: Archaeological Science 20 points First Semester\n",
      "ANTH411 2020 Special Topic: The New Ethnography of Development 20 points Full Year\n",
      "ANTH413 2020 Oceanic Prehistory 20 points Not offered in 2020\n",
      "ANTH423 2020 Bodies, Technologies and Medicines 20 points Not offered, expected to be offered in 2021\n",
      "ANTH424 2020 The Anthropology of Evil 20 points Full Year\n",
      "ANTH425 2020 Anthropology of Transnationalism and Diaspora 20 points Not offered, expected to be offered in 2022\n",
      "ANTH426 2020 Anthropology and the Past 20 points Not offered in 2020\n",
      "ANTH490 2020 Dissertation 60 points Full Year\n",
      "ANTH495 2020 Dissertation 60 points Full Year\n",
      "ANTH590 2020 Research Dissertation 60 points 1st Non standard period, 2nd Non standard period\n",
      "200\n",
      "<!DOCTYPE html>\n",
      "<!--[if lt IE 7]>      <html class=\"no-js lt-ie9 lt-ie8 lt-ie7\" lang=\"en-NZ\"> <![endif]-->\n",
      "<!--[if IE 7]>         <html class=\"no-js lt-ie9 lt-ie8 lang=\"en-NZ\"\"> <![endif]-->\n",
      "<!--[if IE 8]>         <html class=\"no-js lt-ie9\" lang=\"en-NZ\"> <![endif]-->\n",
      "<!--[if gt IE 8]><!--> <html\n",
      "SOWK111 2020 Working with People: The New Zealand Context 18 points First Semester\n",
      "SOWK201 2020 Fields of Practice 18 points Second Semester\n",
      "SOWK236 2020 The Treaty and Social Services 18 points First Semester\n",
      "SOWK301 2020 Theories and Methods of Social Work 18 points First Semester\n",
      "SOWK302 2020 Social Work for Children and Families - Analysis and Theory 18 points First Semester\n",
      "SOWK303 2020 Communities and Organisations - Analysis and Theory 18 points First Semester\n",
      "SOWK304 2020 Kaupapa Māori, and Indigenous Approaches to Social Work 18 points Second Semester\n",
      "SOWK320 2020 Introduction to Professional Practice 18 points First Semester\n",
      "SOWK392 2020 Fieldwork Practice 1 36 points Second Semester\n",
      "SOWK402 2020 Micro Intervention: Theories and Skills 20 points First Semester\n",
      "SOWK403 2020 Communities and Organisations - Advanced Practice 20 points First Semester\n",
      "SOWK404 2020 Care and Protection 20 points First Semester\n",
      "SOWK405 2020 Social Work Issues Across the Lifespan 20 points First Semester\n",
      "SOWK406 2020 Social Problems: Policies and Practice Models 20 points Not offered in 2020\n",
      "SOWK407 2020 Kaupapa Māori and Social Work Practice 20 points First Semester\n",
      "SOWK408 2020 Pasifika and Social Services 20 points Not offered in 2020\n",
      "SOWK409 2020 Decision-making in Child Welfare 20 points Not offered in 2020\n",
      "SOWK410 2020 Special Topic 20 points Not offered in 2020\n",
      "SOWK411 2020 Advanced Special Topic 20 points Not offered in 2020\n",
      "SOWK423 2020 Animals and Social Work 20 points Not offered in 2020\n",
      "SOWK480 2020 Research Project 20 points First Semester, Full Year\n",
      "SOWK490 2020 Dissertation 40 points Full Year\n",
      "SOWK492 2020 Fieldwork Practice 2 40 points Second Semester\n",
      "SOWK504 2020 Care and Protection 30 points First Semester\n",
      "SOWK505 2020 Lifespan Issues - Advanced Practice with Older Adults 30 points First Semester\n",
      "SOWK508 2020 Pasifika and Social Services 30 points Not offered in 2020\n",
      "SOWK509 2020 Decision-making in Child Welfare 30 points Not offered in 2020\n",
      "SOWK510 2020 Advanced Social Service Counselling 30 points Not offered in 2020\n",
      "SOWK511 2020 Advanced Family Practice 30 points Second Semester\n",
      "SOWK515 2020 Iwi Social Services I - Contextual Issues 30 points First Semester\n",
      "SOWK517 2020 Social Policy Development 30 points Not offered in 2020\n",
      "SOWK520 2020 Social Services Research and Evaluation 30 points Not offered in 2020\n",
      "SOWK521 2020 Advanced Special Topic 30 points Not offered in 2020\n",
      "SOWK522 2020 Advanced Studies Special Topic 30 points Not offered in 2020\n",
      "SOWK523 2020 Animals and Social Work 30 points Not offered in 2020\n",
      "SOWK551 2020 Theories and Methods of Social Work 20 points First Semester\n",
      "SOWK552 2020 Child and Family Social Work 20 points First Semester\n",
      "SOWK553 2020 Communities and Organisation - Analysis and Theory 20 points First Semester\n",
      "SOWK554 2020 Kaupapa Māori and Indigenous Approaches to Social Work 20 points Second Semester\n",
      "SOWK562 2020 Micro Intervention - Theories and Skills 20 points First Semester\n",
      "SOWK563 2020 Communities and Organisations - Advanced Practice 20 points First Semester\n",
      "SOWK570 2020 Introduction to Professional Practice 20 points First Semester\n",
      "SOWK580 2020 Research Project 20 points Full Year\n",
      "SOWK592 2020 Fieldwork Practice 1 25 points Second Semester\n",
      "SOWK593 2020 Fieldwork Practice 2 25 points Second Semester\n",
      "SOWK680 2020 Research Project 30 points Not offered in 2020\n"
     ]
    },
    {
     "name": "stdout",
     "output_type": "stream",
     "text": [
      "200\n",
      "<!DOCTYPE html>\n",
      "<!--[if lt IE 7]>      <html class=\"no-js lt-ie9 lt-ie8 lt-ie7\" lang=\"en-NZ\"> <![endif]-->\n",
      "<!--[if IE 7]>         <html class=\"no-js lt-ie9 lt-ie8 lang=\"en-NZ\"\"> <![endif]-->\n",
      "<!--[if IE 8]>         <html class=\"no-js lt-ie9\" lang=\"en-NZ\"> <![endif]-->\n",
      "<!--[if gt IE 8]><!--> <html\n",
      "GEOG101 2020 Physical Geography 18 points First Semester\n",
      "GEOG102 2020 Human Geography 18 points Second Semester\n",
      "GEOG210 2020 Social Geography 18 points Second Semester\n",
      "GEOG212 2020 Transformations in Developing Countries 18 points Not offered, expected to be offered in 2021\n",
      "GEOG214 2020 Economic Geography of the Post-World War II Era 18 points First Semester\n",
      "GEOG215 2020 Urban Geography 18 points Not offered, expected to be offered in 2021\n",
      "GEOG216 2020 Resource Evaluation and Planning 18 points First Semester\n",
      "GEOG219 2020 Special Topic in Human Geography 18 points Second Semester\n",
      "GEOG228 2020 Uneven Development in Contemporary India 18 points First Semester\n",
      "GEOG276 2020 Geographies of Contestation, Action and Change 18 points Not offered, expected to be offered in 2021\n",
      "GEOG278 2020 Geographies of the South Pacific 18 points Not offered in 2020\n",
      "GEOG280 2020 Research Methodology in Human Geography 18 points First Semester\n",
      "GEOG281 2020 Topics in Physical Geography 18 points Not offered, expected to be offered in 2021\n",
      "GEOG282 2020 Climate Change: Present and Future 18 points Not offered, expected to be offered in 2021\n",
      "GEOG283 2020 Climate Change: The Past 18 points Not offered, expected to be offered in 2021\n",
      "GEOG284 2020 Soils and the Environment 18 points Not offered, expected to be offered in 2021\n",
      "GEOG285 2020 Southern Landscapes 12 points International School\n",
      "GEOG286 2020 Climatology 18 points Second Semester\n",
      "GEOG287 2020 Plants, People and the Environment 18 points Second Semester\n",
      "GEOG288 2020 Rivers and Runoff 18 points Not offered, expected to be offered in 2021\n",
      "GEOG289 2020 Geomorphology 18 points First Semester\n",
      "GEOG290 2020 Field Research Methods (Science) 18 points Full Year\n",
      "GEOG298 2020 Coastal Geomorphology 18 points Not offered, expected to be offered in 2021\n",
      "GEOG299 2020 Freshwater Resources: Monitoring and Management 18 points Not offered, expected to be offered in 2021\n",
      "GEOG328 2020 Uneven Development in Contemporary India 18 points First Semester\n",
      "GEOG374 2020 Economic Geography of the Post-World War II Era 18 points First Semester\n",
      "GEOG376 2020 Geographies of Contestation, Action and Change 18 points Not offered, expected to be offered in 2021\n",
      "GEOG378 2020 Geographies of the South Pacific 18 points Not offered in 2020\n",
      "GEOG379 2020 Special Topic in Human Geography 18 points Second Semester\n",
      "GEOG380 2020 Field Research Studies 18 points Full Year\n",
      "GEOG381 2020 Social Geography 18 points Second Semester\n",
      "GEOG382 2020 Transformations in Developing Countries 18 points Not offered, expected to be offered in 2021\n",
      "GEOG384 2020 Urban Geography 18 points Not offered, expected to be offered in 2021\n",
      "GEOG387 2020 Topics in Physical Geography 18 points Not offered, expected to be offered in 2021\n",
      "GEOG388 2020 Climate Change: Present and Future 18 points Not offered, expected to be offered in 2021\n",
      "GEOG389 2020 Climate Change: The Past 18 points Not offered, expected to be offered in 2021\n",
      "GEOG390 2020 Soils and the Environment 18 points Not offered, expected to be offered in 2021\n",
      "GEOG392 2020 Climatology 18 points Second Semester\n",
      "GEOG393 2020 Plants, People and the Environment 18 points Second Semester\n",
      "GEOG394 2020 Rivers and Runoff 18 points Not offered, expected to be offered in 2021\n",
      "GEOG395 2020 Geomorphology 18 points First Semester\n",
      "GEOG397 2020 Environmental Management 18 points Second Semester\n",
      "GEOG398 2020 Coastal Geomorphology 18 points Not offered, expected to be offered in 2021\n",
      "GEOG399 2020 Freshwater Resources: Monitoring and Management 18 points Not offered, expected to be offered in 2021\n",
      "GEOG401 2020 Theories of Development 20 points First Semester\n",
      "GEOG402 2020 Development Planning and Practice 20 points Second Semester\n",
      "GEOG454 2020 Alpine Geomorphology 20 points First Semester\n",
      "GEOG457 2020 Advanced Urban Geography 20 points Second Semester\n",
      "GEOG459 2020 Biogeography 20 points Second Semester\n",
      "GEOG460 2020 Climatology 20 points Second Semester\n",
      "GEOG461 2020 Mountain Hydrology 20 points First Semester\n",
      "GEOG463 2020 Geographies of Justice 20 points First Semester\n",
      "GEOG464 2020 An Approved Course in Geography 20 points First Semester, Second Semester\n",
      "GEOG465 2020 Special Topic in Geography 20 points First Semester, Second Semester\n",
      "GEOG470 2020 A Research Topic in Geography 40 points Full Year\n",
      "GEOG471 2020 Impact Assessment and Sustainability 20 points Second Semester\n",
      "GEOG472 2020 Developments in Environmental Management 20 points First Semester\n",
      "GEOG474 2020 Coastal Management 20 points First Semester\n",
      "GEOG490 2020 Dissertation 60 points Full Year, 1st Non standard period\n",
      "GEOG495 2020 Master's Thesis Preparation 40 points Full Year\n",
      "GEOG590 2020 Research Dissertation 60 points 1st Non standard period, 2nd Non standard period\n",
      "200\n",
      "<!DOCTYPE html>\n",
      "<!--[if lt IE 7]>      <html class=\"no-js lt-ie9 lt-ie8 lt-ie7\" lang=\"en-NZ\"> <![endif]-->\n",
      "<!--[if IE 7]>         <html class=\"no-js lt-ie9 lt-ie8 lang=\"en-NZ\"\"> <![endif]-->\n",
      "<!--[if IE 8]>         <html class=\"no-js lt-ie9\" lang=\"en-NZ\"> <![endif]-->\n",
      "<!--[if gt IE 8]><!--> <html\n",
      "GEND101 2020 Gender in Everyday Life 18 points First Semester\n",
      "GEND102 2020 Bodies, Sexualities and Society 18 points Second Semester\n",
      "GEND201 2020 Introduction to Feminist Theory 18 points Second Semester\n",
      "GEND205 2020 Gender and the Media 18 points Second Semester\n",
      "GEND206 2020 Gender, Work and Consumer Culture 18 points Second Semester\n",
      "GEND207 2020 Masculinities 18 points First Semester\n",
      "GEND208 2020 Governing Bodies 18 points Second Semester\n",
      "GEND209 2020 Critical Victimology 18 points First Semester\n",
      "GEND210 2020 Gender, Crime and Justice 18 points Not offered, expected to be offered in 2021\n",
      "GEND234 2020 Special Topic 18 points Not offered in 2020\n",
      "GEND305 2020 Gender and the Media 18 points Second Semester\n",
      "GEND306 2020 Gender, Work and Consumer Culture 18 points Second Semester\n",
      "GEND307 2020 Masculinities 18 points First Semester\n",
      "GEND308 2020 Governing Bodies 18 points Second Semester\n",
      "GEND309 2020 Critical Victimology (Advanced) 18 points Not offered, expected to be offered in 2021\n",
      "GEND310 2020 Gender, Crime and Justice 18 points Not offered, expected to be offered in 2021\n",
      "GEND311 2020 Interventions in Sexual Violence 18 points First Semester\n",
      "GEND334 2020 Special Topic 18 points Not offered in 2020\n",
      "GEND401 2020 Debates in Gender and Sexuality 20 points First Semester\n",
      "GEND490 2020 Dissertation 60 points Full Year\n",
      "GEND590 2020 Research Dissertation 60 points 1st Non standard period, 2nd Non standard period\n",
      "200\n",
      "<!DOCTYPE html>\n",
      "<!--[if lt IE 7]>      <html class=\"no-js lt-ie9 lt-ie8 lt-ie7\" lang=\"en-NZ\"> <![endif]-->\n",
      "<!--[if IE 7]>         <html class=\"no-js lt-ie9 lt-ie8 lang=\"en-NZ\"\"> <![endif]-->\n",
      "<!--[if IE 8]>         <html class=\"no-js lt-ie9\" lang=\"en-NZ\"> <![endif]-->\n",
      "<!--[if gt IE 8]><!--> <html\n",
      "CRIM201 2020 Crime, Justice and Society 18 points First Semester\n"
     ]
    }
   ],
   "source": [
    "#Create a loop to process the successive pages\n",
    "for subject_url in subject_papers_search_urls:\n",
    "    \n",
    "    #pull the data from the page\n",
    "    r = requests.get(subject_url)\n",
    "    # Print the status code and first 300 characters of the webpage text to check that it's working\n",
    "    print(r.status_code)\n",
    "    print(r.text[:300])\n",
    "    \n",
    "    #Make the Soup!\n",
    "    soupextra = BeautifulSoup(r.text, 'lxml')\n",
    "    \n",
    "    #check that it's working\n",
    "    #print (soupextra)\n",
    "\n",
    "    #Pulling out the table data from the page and storing it in a variable\n",
    "    #we can get away with with soup.table here because there's only one table on the page\n",
    "    paper_results_rows = soupextra.find_all('tr')\n",
    "    #print (paper_results_rows)\n",
    "    \n",
    "    #a loop to pull out all the relevant data - the square bracket 1: means miss out one row at the start\n",
    "    for tr in paper_results_rows[1:]:\n",
    "        td = tr.find_all('td') \n",
    "        row = [i.text for i in td]\n",
    "\n",
    "        # This structure isolates each piece of row data item by its column in the table and converts it into a string.    \n",
    "        Paper_code = str(td[0].get_text()) \n",
    "        Year = str(td[1].get_text())\n",
    "        Title = str(td[2].get_text())\n",
    "        Points = str(td[3].get_text())\n",
    "        Teaching_period = str(td[4].get_text())    \n",
    "    \n",
    "        #Check that its working\n",
    "        print (Paper_code, Year, Title, Points, Teaching_period)\n",
    "    \n",
    "        with open(\"CombinedPaper_Results_Test.csv\", \"a\", encoding='UTF-8',newline='\\n') as fd:  \n",
    "            csvwriter = csv.writer(fd)\n",
    "            csvwriter.writerow([Paper_code, Year, Title, Points, Teaching_period])"
   ]
  },
  {
   "cell_type": "code",
   "execution_count": 25,
   "metadata": {},
   "outputs": [],
   "source": [
    "#"
   ]
  }
 ],
 "metadata": {
  "kernelspec": {
   "display_name": "Python 3",
   "language": "python",
   "name": "python3"
  },
  "language_info": {
   "codemirror_mode": {
    "name": "ipython",
    "version": 3
   },
   "file_extension": ".py",
   "mimetype": "text/x-python",
   "name": "python",
   "nbconvert_exporter": "python",
   "pygments_lexer": "ipython3",
   "version": "3.7.4"
  },
  "toc": {
   "base_numbering": 1,
   "nav_menu": {},
   "number_sections": true,
   "sideBar": true,
   "skip_h1_title": false,
   "title_cell": "Table of Contents",
   "title_sidebar": "Contents",
   "toc_cell": false,
   "toc_position": {},
   "toc_section_display": true,
   "toc_window_display": false
  }
 },
 "nbformat": 4,
 "nbformat_minor": 4
}
