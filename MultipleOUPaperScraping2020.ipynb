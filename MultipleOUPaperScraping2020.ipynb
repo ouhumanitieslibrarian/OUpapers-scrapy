{
 "cells": [
  {
   "cell_type": "markdown",
   "metadata": {},
   "source": [
    "# Scraping Papers Data for Multiple Subjects from the OU Papers Web"
   ]
  },
  {
   "cell_type": "markdown",
   "metadata": {
    "ExecuteTime": {
     "end_time": "2019-12-06T00:38:09.648586Z",
     "start_time": "2019-12-06T00:38:09.640607Z"
    }
   },
   "source": [
    "![OU Subjects and Papers Web Search Form](https://www.otago.ac.nz/_assets/_gfx/logo.png)"
   ]
  },
  {
   "cell_type": "markdown",
   "metadata": {},
   "source": [
    "## Overview"
   ]
  },
  {
   "cell_type": "markdown",
   "metadata": {
    "ExecuteTime": {
     "end_time": "2019-12-06T00:42:14.803523Z",
     "start_time": "2019-12-06T00:42:14.796542Z"
    }
   },
   "source": [
    "This is a series of script sections written in Python, to scrape data from the OU 'Search for papers' webpage.\n",
    "\n",
    "It is broken down into steps with some comments - those lines starting with a `#`; they don't **do** anything, but can be helpful for explaining context!"
   ]
  },
  {
   "cell_type": "markdown",
   "metadata": {},
   "source": [
    "### A little about Jupyter notebooks\n",
    "\n",
    "Interactive online notebooks - Jupyter notebooks liek this one -  make it easy to run small pieces of code and better understand each step in the program. They allow everyone to work in the same environment and get the same results (we hope!), and also allow text, headings, links etc to be interspersed in the code.\n",
    "\n",
    "If you want to use Jupyter notebooks (as we are here), I recommend you set this up, along with many of the Python libraries you might want, by installing the Anaconda Community distribution.\n",
    "\n",
    "#### Running code cells\n",
    "The notebook is made up of cells, which can be run individually or together. You must run them in order as the programs are sequential - later parts rely on the completion of earlier parts.\n",
    "\n",
    "To run a cell, you need to click on it to select it, then press the 'Run' button on the menu bar, or press Shift+Enter (the latter is much more convenient, once you get used to it). Working cell by cell helps break the program into pieces which can be understood more easily."
   ]
  },
  {
   "cell_type": "markdown",
   "metadata": {},
   "source": [
    "### Start by importing the Libraries\n",
    "A *library* in Python is a collection of functions and methods that allows you to perform many actions without writing your code. We need to import three for this script:\n",
    "\n",
    "`requests` which enables the us to retrieve web pages\n",
    "\n",
    "`csv` which enables us to outputting the data we collect as an excel-readable csv file\n",
    "\n",
    "`BeautifulSoup` which can interpret and process html and xml - so can read a web page, much like a web browser does"
   ]
  },
  {
   "cell_type": "code",
   "execution_count": 35,
   "metadata": {
    "ExecuteTime": {
     "end_time": "2019-12-06T02:53:54.121606Z",
     "start_time": "2019-12-06T02:53:54.117042Z"
    }
   },
   "outputs": [],
   "source": [
    "# Import means make available to us to access the commands and tools in the library for this particular program\n",
    "import requests\n",
    "import csv\n",
    "from bs4 import BeautifulSoup"
   ]
  },
  {
   "cell_type": "markdown",
   "metadata": {},
   "source": [
    "### Set our subjects\n",
    "Store the names of the subject codes you want to check in a variable `subjects`. This is editable for different subject librarians - the current iteration is for **Social Sciences**"
   ]
  },
  {
   "cell_type": "code",
   "execution_count": 40,
   "metadata": {
    "ExecuteTime": {
     "end_time": "2019-12-06T02:59:21.473136Z",
     "start_time": "2019-12-06T02:59:21.466576Z"
    },
    "scrolled": true
   },
   "outputs": [
    {
     "name": "stdout",
     "output_type": "stream",
     "text": [
      "('finc', 'acct', 'econ', 'info', 'mart', 'tour')\n"
     ]
    }
   ],
   "source": [
    "subjects = (\"finc\", \"acct\", \"econ\", \"info\", \"mart\", \"tour\")\n",
    "\n",
    "#print them out to confirm that it's working\n",
    "print (subjects)"
   ]
  },
  {
   "cell_type": "markdown",
   "metadata": {},
   "source": [
    "### Setup the Search URLS for all your Subjects\n",
    "Next we are going to use an accumulator pattern or [for loop](https://en.wikipedia.org/wiki/For_loop), to build a list of the variations of URL search that we need to search for all the papers taught across the different subjects.\n"
   ]
  },
  {
   "cell_type": "code",
   "execution_count": 41,
   "metadata": {
    "ExecuteTime": {
     "end_time": "2019-12-06T02:59:26.262545Z",
     "start_time": "2019-12-06T02:59:26.257012Z"
    }
   },
   "outputs": [
    {
     "name": "stdout",
     "output_type": "stream",
     "text": [
      "['https://www.otago.ac.nz/courses/papers/index.html?subjcode=*&papercode=finc&keywords=&period=&year=&distance=&lms=&submit=Search', 'https://www.otago.ac.nz/courses/papers/index.html?subjcode=*&papercode=acct&keywords=&period=&year=&distance=&lms=&submit=Search', 'https://www.otago.ac.nz/courses/papers/index.html?subjcode=*&papercode=econ&keywords=&period=&year=&distance=&lms=&submit=Search', 'https://www.otago.ac.nz/courses/papers/index.html?subjcode=*&papercode=info&keywords=&period=&year=&distance=&lms=&submit=Search', 'https://www.otago.ac.nz/courses/papers/index.html?subjcode=*&papercode=mart&keywords=&period=&year=&distance=&lms=&submit=Search', 'https://www.otago.ac.nz/courses/papers/index.html?subjcode=*&papercode=tour&keywords=&period=&year=&distance=&lms=&submit=Search']\n"
     ]
    }
   ],
   "source": [
    "# make an empty variable\n",
    "subject_papers_search_urls = []\n",
    "\n",
    "#buid the URLS and add them one by one\n",
    "for item in subjects:\n",
    "    url_ending = item + '&keywords=&period=&year=&distance=&lms=&submit=Search'\n",
    "    subject_papers_search_urls.append('https://www.otago.ac.nz/courses/papers/index.html?subjcode=*&papercode=' + url_ending)\n",
    "\n",
    "print(subject_papers_search_urls)"
   ]
  },
  {
   "cell_type": "markdown",
   "metadata": {},
   "source": [
    "## Create a csv file to hold the search results\n",
    "Create and open a file called `Paper_Results_Test1.csv` in writeable mode `'w'`, with utf-8 encoding, specifying the newline character\n",
    "\n",
    "Write the header row of the file to match the fields in the search results table"
   ]
  },
  {
   "cell_type": "code",
   "execution_count": 44,
   "metadata": {
    "ExecuteTime": {
     "end_time": "2019-12-06T03:00:43.033194Z",
     "start_time": "2019-12-06T03:00:43.025218Z"
    }
   },
   "outputs": [],
   "source": [
    "with open(\"CombinedPaper_Results_Test.csv\", \"w\", encoding=\"utf-8\", newline='\\n') as fd:  \n",
    "    fieldnames = [Paper_code, Year, Title, Points, Teaching_period]\n",
    "    csvwriter = csv.writer(fd)\n",
    "    csvwriter.writerow([\"Paper code\", \"Year\", \"Title\", \"Points\", \"Teaching period\"])"
   ]
  },
  {
   "cell_type": "markdown",
   "metadata": {},
   "source": [
    "## Gather the paper data for each subject and add them to a csv file\n",
    "Create a `for` loop to process the successive pages iteratively, which involves:\n",
    "* using `requests` to fetch the search results page adn then peek at the first part to ensure it has worked\n",
    "* processing the search results webpages using BeautifulSoup\n",
    "* pulling out the table data from the page and storing it in a variable\n",
    "\n",
    "The we create another `for` loop within that (yes, that's a nested `for` loop!) which uses BeautifulSoup to:\n",
    "* find all the rows `tr` in the table, then\n",
    "* find all the cells `td`, and then\n",
    "* pull out the data for each `td` cell into one of five variables `Paper_code`, `Year`, `Title`, `Points`, `Teaching_period` depending on its position in the row, and finally\n",
    "* add all that data to the csv file that we created earlier"
   ]
  },
  {
   "cell_type": "code",
   "execution_count": 45,
   "metadata": {
    "ExecuteTime": {
     "end_time": "2019-12-06T03:00:55.375866Z",
     "start_time": "2019-12-06T03:00:48.834318Z"
    },
    "jupyter": {
     "outputs_hidden": true
    }
   },
   "outputs": [
    {
     "name": "stdout",
     "output_type": "stream",
     "text": [
      "200\n",
      "<!DOCTYPE html>\n",
      "<!--[if lt IE 7]>      <html class=\"no-js lt-ie9 lt-ie8 lt-ie7\" lang=\"en-NZ\"> <![endif]-->\n",
      "<!--[if IE 7]>         <html class=\"no-js lt-ie9 lt-ie8 lang=\"en-NZ\"\"> <![endif]-->\n",
      "<!--[if IE 8]>         <html class=\"no-js lt-ie9\" lang=\"en-NZ\"> <![endif]-->\n",
      "<!--[if gt IE 8]><!--> <html\n",
      "FINC102 2020 Business Mathematics 18 points First Semester, Second Semester\n",
      "FINC202 2020 Investment Analysis and Portfolio Management 18 points First Semester, Second Semester\n",
      "FINC203 2020 Financial Data Analysis 18 points First Semester\n",
      "FINC204 2020 Personal Finance 18 points Summer School\n",
      "FINC206 2020 Fundamentals of Corporate Finance 18 points Second Semester\n",
      "FINC302 2020 Applied Investments 18 points First Semester\n",
      "FINC303 2020 Financial Management 18 points Second Semester\n",
      "FINC304 2020 Financial Markets and Institutions 18 points First Semester\n",
      "FINC305 2020 International Financial Management 18 points First Semester\n",
      "FINC306 2020 Derivatives 18 points Second Semester\n",
      "FINC308 2020 Financial Econometrics 18 points Not offered in 2020\n",
      "FINC309 2020 Financial Modelling 18 points Not offered in 2020\n",
      "FINC310 2020 Fixed Income Security Analysis 18 points Second Semester\n",
      "FINC399 2020 Special Topic 18 points Not offered in 2020\n",
      "FINC402 2020 Advanced Corporate Finance 20 points Not offered in 2020\n",
      "FINC403 2020 Studies in Capital Markets 20 points First Semester\n",
      "FINC405 2020 Mathematical Finance 20 points Second Semester\n",
      "FINC406 2020 Advanced Empirical Finance 20 points First Semester\n",
      "FINC410 2020 Advanced International Financial Management 20 points Second Semester\n",
      "FINC411 2020 Financial Risk Management 20 points Not offered in 2020\n",
      "FINC420 2020 Energy and Carbon Finance 20 points Not offered in 2020\n",
      "FINC425 2020 Governance Issues in Finance 20 points Second Semester\n",
      "FINC460 2020 Advanced Fixed Income Securities 20 points Not offered in 2020\n",
      "FINC480 2020 Dissertation or Case Study 40 points Full Year\n",
      "FINC499 2020 Special Topic: Financial Analytics 20 points Second Semester\n",
      "FINC501 2020 Applied Project 40 points 1st Non standard period, 2nd Non standard period\n",
      "FINC580 2020 Research Project 40 points 1st Non standard period, 2nd Non standard period\n",
      "200\n",
      "<!DOCTYPE html>\n",
      "<!--[if lt IE 7]>      <html class=\"no-js lt-ie9 lt-ie8 lt-ie7\" lang=\"en-NZ\"> <![endif]-->\n",
      "<!--[if IE 7]>         <html class=\"no-js lt-ie9 lt-ie8 lang=\"en-NZ\"\"> <![endif]-->\n",
      "<!--[if IE 8]>         <html class=\"no-js lt-ie9\" lang=\"en-NZ\"> <![endif]-->\n",
      "<!--[if gt IE 8]><!--> <html\n",
      "ACCT102 2020 Principles of Accounting 18 points First Semester, Second Semester\n",
      "ACCT211 2020 Financial Accounting and Reporting 18 points First Semester\n",
      "ACCT222 2020 Cost and Management Accounting 18 points First Semester, Second Semester\n",
      "ACCT233 2020 Fundamentals of Accounting for Financial Decisions 18 points First Semester\n",
      "ACCT302 2020 Accounting Performance Management 18 points First Semester\n",
      "ACCT303 2020 Accounting for the Public Sector 18 points Not offered in 2020\n",
      "ACCT306 2020 Accounting Information Systems 18 points Second Semester\n",
      "ACCT307 2020 Management Accounting 18 points Second Semester\n",
      "ACCT310 2020 Financial Statement Analysis 18 points Second Semester\n",
      "ACCT315 2020 Advanced Financial Accounting 18 points First Semester\n",
      "ACCT320 2020 Accounting Theory 18 points Not offered in 2020\n",
      "ACCT325 2020 Corporate Sustainability Accounting and Reporting 18 points Second Semester\n",
      "ACCT399 2020 Special Topic 18 points Not offered in 2020\n",
      "ACCT403 2020 Advanced Financial Accounting 20 points First Semester\n",
      "ACCT404 2020 Empirical and Methodological Aspects of Financial Accounting 20 points Not offered in 2020\n",
      "ACCT406 2020 Accounting Information Systems 20 points Second Semester\n",
      "ACCT409 2020 Advanced Management Accounting 20 points Second Semester\n",
      "ACCT410 2020 Advanced Performance Management Accounting 20 points Not offered in 2020\n",
      "ACCT411 2020 Literature Review 20 points First Semester\n",
      "ACCT412 2020 International Accounting 20 points Not offered in 2020\n",
      "ACCT414 2020 Sustainability Accounting and Reporting 20 points Not offered in 2020\n",
      "ACCT421 2020 Financial Accounting 20 points First Semester\n",
      "ACCT422 2020 Management Accounting 20 points First Semester\n",
      "ACCT423 2020 Finance 20 points First Semester\n",
      "ACCT429 2020 Commercial Law 20 points First Semester\n",
      "ACCT480 2020 Dissertation or Case Study 40 points Full Year\n",
      "ACCT499 2020 Special Topic 20 points Not offered in 2020\n",
      "ACCT501 2020 Applied Project 40 points 1st Non standard period, 2nd Non standard period\n",
      "200\n",
      "<!DOCTYPE html>\n",
      "<!--[if lt IE 7]>      <html class=\"no-js lt-ie9 lt-ie8 lt-ie7\" lang=\"en-NZ\"> <![endif]-->\n",
      "<!--[if IE 7]>         <html class=\"no-js lt-ie9 lt-ie8 lang=\"en-NZ\"\"> <![endif]-->\n",
      "<!--[if IE 8]>         <html class=\"no-js lt-ie9\" lang=\"en-NZ\"> <![endif]-->\n",
      "<!--[if gt IE 8]><!--> <html\n",
      "ECON112 2020 Principles of Macroeconomics 18 points Second Semester\n",
      "ECON201 2020 Microeconomics 18 points First Semester\n",
      "ECON202 2020 Macroeconomics 18 points Second Semester\n",
      "ECON206 2020 The World Economy 18 points Second Semester\n",
      "ECON207 2020 Environmental Economics 18 points First Semester\n",
      "ECON210 2020 Introduction to Econometrics 18 points First Semester\n",
      "ECON271 2020 Intermediate Microeconomic Theory 18 points First Semester\n",
      "ECON301 2020 Labour Economics 18 points Not offered, expected to be offered in 2021\n",
      "ECON302 2020 International Trade 18 points Second Semester\n",
      "ECON303 2020 Economics of Developing Countries 18 points First Semester\n",
      "ECON306 2020 Economics of Health and Education 18 points Second Semester\n",
      "ECON308 2020 Public Economics 18 points Second Semester\n",
      "ECON316 2020 Open Economy Macroeconomics 18 points First Semester\n",
      "ECON317 2020 Urban and Regional Economics 18 points First Semester\n",
      "ECON318 2020 Behavioural Economics 18 points First Semester\n",
      "ECON319 2020 Game Theory 18 points Second Semester\n",
      "ECON350 2020 Special Topic 18 points Not offered in 2020\n",
      "ECON351 2020 Special Topic: Economics of Households and Wellbeing 18 points Second Semester\n",
      "ECON371 2020 Microeconomic Theory 18 points Second Semester\n",
      "ECON375 2020 Econometrics 18 points Second Semester\n",
      "ECON376 2020 Macroeconomic Theory 18 points First Semester\n",
      "ECON377 2020 Mathematical Economics 18 points Second Semester\n",
      "ECON402 2020 Growth, Institutions and Development 20 points Not offered, expected to be offered in 2021\n",
      "ECON403 2020 Monetary Economics 20 points Second Semester\n",
      "ECON404 2020 International Economics 20 points Not offered in 2020\n",
      "ECON405 2020 The Economics of Natural Resources and Public Choice 20 points Not offered in 2020\n",
      "ECON406 2020 Labour and Population Economics 20 points Not offered in 2020\n",
      "ECON407 2020 Topics in Advanced Economics 20 points Second Semester\n",
      "ECON410 2020 Advanced Microeconomic Theory 20 points Second Semester\n",
      "ECON411 2020 Advanced Macroeconomic Theory 20 points First Semester\n",
      "ECON412 2020 Macroeconometrics 20 points First Semester\n",
      "ECON413 2020 Microeconometrics 20 points First Semester\n",
      "ECON480 2020 Dissertation 40 points Full Year\n",
      "ECON485 2020 Master's Thesis Preparation 20 points First Semester, Second Semester, Full Year\n",
      "ECON492 2020 Dissertation for Philosophy, Politics and Economics 60 points Full Year\n",
      "ECON580 2020 Research Dissertation 60 points First Semester, Second Semester, 1st Non standard period, 2nd Non standard period,\n",
      "         3rd Non standard period\n",
      "      \n",
      "200\n",
      "<!DOCTYPE html>\n",
      "<!--[if lt IE 7]>      <html class=\"no-js lt-ie9 lt-ie8 lt-ie7\" lang=\"en-NZ\"> <![endif]-->\n",
      "<!--[if IE 7]>         <html class=\"no-js lt-ie9 lt-ie8 lang=\"en-NZ\"\"> <![endif]-->\n",
      "<!--[if IE 8]>         <html class=\"no-js lt-ie9\" lang=\"en-NZ\"> <![endif]-->\n",
      "<!--[if gt IE 8]><!--> <html\n",
      "INFO130 2020 Fundamentals and practice of spreadsheets 18 points Second Semester\n",
      "INFO201 2020 Developing Information Systems 1 18 points First Semester\n",
      "INFO202 2020 Developing Information Systems 2 18 points Second Semester\n",
      "INFO203 2020 Human-Computer Interaction and User Experience 18 points First Semester\n",
      "INFO204 2020 Introduction to Data Science 18 points Second Semester\n",
      "INFO250 2020 Special Topic 18 points Not offered in 2020\n",
      "INFO301 2020 Applied Project 18 points Second Semester\n",
      "INFO302 2020 Information Systems Strategy and Governance 18 points Second Semester\n",
      "INFO303 2020 Enterprise Information Systems Infrastructure 18 points First Semester\n",
      "INFO304 2020 Advanced Data Science 18 points Second Semester\n",
      "INFO305 2020 Pervasive Computing and Interactive Technologies 18 points First Semester\n",
      "INFO310 2020 Software Project Management 18 points First Semester\n",
      "INFO350 2020 Topics in Information Science 18 points First Semester, Second Semester\n",
      "INFO351 2020 Special Topic 18 points Not offered in 2020\n",
      "INFO352 2020 Special Topic 18 points Not offered in 2020\n",
      "INFO353 2020 Special Topic 18 points Not offered in 2020\n",
      "INFO390 2020 Research Topics 18 points Not offered in 2020\n",
      "INFO407 2020 Agent-based Software Technologies 20 points Second Semester\n",
      "INFO408 2020 Management of Large-Scale Data 20 points First Semester\n",
      "INFO410 2020 Multimedia User Experience - Theory and Practice 20 points First Semester\n",
      "INFO411 2020 Machine Learning and Data Mining 20 points Second Semester\n",
      "INFO420 2020 Statistical Techniques for Data Science 20 points Second Semester\n",
      "INFO424 2020 Adaptive Business Intelligence 20 points First Semester\n",
      "INFO451 2020 Special Topic 20 points Not offered in 2020\n",
      "INFO452 2020 Special Topic 20 points Not offered in 2020\n",
      "INFO470 2020 Advanced Topics in Information Science 20 points First Semester, Second Semester\n",
      "INFO490 2020 Dissertation 40 points Full Year\n",
      "INFO501 2020 Applied Project 40 points 1st Non standard period\n",
      "INFO580 2020 Research Project 40 points 1st Non standard period\n"
     ]
    },
    {
     "name": "stdout",
     "output_type": "stream",
     "text": [
      "200\n",
      "<!DOCTYPE html>\n",
      "<!--[if lt IE 7]>      <html class=\"no-js lt-ie9 lt-ie8 lt-ie7\" lang=\"en-NZ\"> <![endif]-->\n",
      "<!--[if IE 7]>         <html class=\"no-js lt-ie9 lt-ie8 lang=\"en-NZ\"\"> <![endif]-->\n",
      "<!--[if IE 8]>         <html class=\"no-js lt-ie9\" lang=\"en-NZ\"> <![endif]-->\n",
      "<!--[if gt IE 8]><!--> <html\n",
      "MART112 2020 Marketing 18 points First Semester, Second Semester\n",
      "MART201 2020 Integrated Marketing Communications 18 points Second Semester\n",
      "MART205 2020 Marketing the Professional Practice 18 points Second Semester\n",
      "MART207 2020 Sports Marketing 18 points First Semester\n",
      "MART210 2020 Consumer Behaviour 18 points First Semester\n",
      "MART211 2020 Products to Market 18 points Second Semester\n",
      "MART212 2020 Understanding Markets 18 points First Semester\n",
      "MART301 2020 Strategic Marketing 18 points Second Semester\n",
      "MART304 2020 Sales and Sales Management 18 points First Semester\n",
      "MART305 2020 Societal Issues in Marketing 18 points First Semester\n",
      "MART306 2020 Innovation and New Product Development 18 points First Semester\n",
      "MART308 2020 Integrated Digital Marketing 18 points First Semester, Summer School\n",
      "MART325 2020 Services Marketing 18 points First Semester\n",
      "MART326 2020 International and Export Marketing 18 points Second Semester\n",
      "MART328 2020 Business to Business Marketing 18 points Second Semester\n",
      "MART329 2020 Consumer Behaviour 18 points Second Semester\n",
      "MART330 2020 Special Topic: Visual Research, Narrative and Filmmaking 18 points Summer School\n",
      "MART333 2020 Creative Marketing Communication 18 points Second Semester\n",
      "MART355 2020 Business Project 36 points Full Year\n",
      "MART407 2020 Topics in Advanced Marketing 7 20 points 1st Non standard period\n",
      "MART409 2020 Topics in Advanced Marketing 9 30 points 1st Non standard period\n",
      "MART411 2020 Topics in Advanced Marketing 11 40 points 1st Non standard period\n",
      "MART448 2020 Advanced Business Analytics 20 points Second Semester\n",
      "MART460 2020 Research Methods 20 points First Semester\n",
      "MART461 2020 Marketing Theory 20 points First Semester\n",
      "MART462 2020 Advanced Marketing Analysis 20 points First Semester\n",
      "MART463 2020 Food Marketing 20 points First Semester\n",
      "MART464 2020 Consumer Behaviour 20 points Second Semester\n",
      "MART465 2020 Retailing 20 points Not offered in 2020\n",
      "MART466 2020 Digital Marketing 20 points First Semester\n",
      "MART467 2020 Tourism Marketing 20 points Second Semester\n",
      "MART468 2020 Branding 20 points Second Semester\n",
      "MART469 2020 Advertising Planning and Concept Development 20 points Second Semester\n",
      "MART470 2020 Special Topic 20 points Not offered in 2020\n",
      "MART475 2020 Advanced Societal Issues in Marketing 20 points 1st Non standard period\n",
      "MART480 2020 Dissertation or Case Study 40 points Full Year\n",
      "MART481 2020 Special Project in Marketing 40 points Not offered in 2020\n",
      "MART501 2020 Applied Project 40 points 1st Non standard period\n",
      "MART580 2020 Research Project 40 points 1st Non standard period\n",
      "200\n",
      "<!DOCTYPE html>\n",
      "<!--[if lt IE 7]>      <html class=\"no-js lt-ie9 lt-ie8 lt-ie7\" lang=\"en-NZ\"> <![endif]-->\n",
      "<!--[if IE 7]>         <html class=\"no-js lt-ie9 lt-ie8 lang=\"en-NZ\"\"> <![endif]-->\n",
      "<!--[if IE 8]>         <html class=\"no-js lt-ie9\" lang=\"en-NZ\"> <![endif]-->\n",
      "<!--[if gt IE 8]><!--> <html\n",
      "TOUR101 2020 Introduction to Tourism 18 points First Semester, Second Semester, Summer School\n",
      "TOUR102 2020 Global Tourism 18 points Second Semester, Summer School\n",
      "TOUR103 2020 Introduction to Hospitality 18 points First Semester\n",
      "TOUR214 2020 Introduction to Wine Business 18 points Summer School\n",
      "TOUR216 2020 Sport Tourism 18 points First Semester\n",
      "TOUR217 2020 Tourist Behaviour 18 points Second Semester\n",
      "TOUR218 2020 Tourism and Hospitality Enterprise Management 18 points Second Semester\n",
      "TOUR219 2020 Destination Management 18 points First Semester\n",
      "TOUR221 2020 Special Topic 18 points Not offered in 2020\n",
      "TOUR301 2020 Cultural and Heritage Tourism 18 points Second Semester\n",
      "TOUR303 2020 Tourist Accommodation Management 18 points First Semester\n",
      "TOUR304 2020 Event and Conventions Management 18 points Second Semester\n",
      "TOUR305 2020 Tourism Product Development 18 points Second Semester\n",
      "TOUR306 2020 Ecotourism and Sustainable Development 18 points First Semester\n",
      "TOUR309 2020 Tourism Research Methods 18 points First Semester\n",
      "TOUR310 2020 Leisure Dimensions 18 points Not offered in 2020\n",
      "TOUR411 2020 Tourist Culture 20 points First Semester\n",
      "TOUR416 2020 Tourism Entrepreneurship and Business 20 points Second Semester\n",
      "TOUR418 2020 Tourism Destination Development 20 points First Semester\n",
      "TOUR420 2020 Special Topic 20 points Not offered in 2020\n",
      "TOUR421 2020 Special Topic: Global Hospitality Operations 20 points Second Semester\n",
      "TOUR422 2020 Tourism and Global Environmental Change 20 points Second Semester\n",
      "TOUR423 2020 Advanced Tourism Concepts 20 points First Semester\n",
      "TOUR424 2020 Tourism Methods and Analysis 20 points Second Semester\n",
      "TOUR426 2020 Event Management 20 points First Semester\n",
      "TOUR427 2020 Tourism and Development Ethnographic Field School 20 points Short Courses (inc. Field Trips)\n",
      "TOUR480 2020 Dissertation 40 points Full Year\n",
      "TOUR590 2020 Research Project 60 points First Semester, Second Semester, 1st Non standard period\n"
     ]
    }
   ],
   "source": [
    "for subject_url in subject_papers_search_urls:\n",
    "    \n",
    "    #pull the data from the page\n",
    "    r = requests.get(subject_url)\n",
    "    # Print the status code and first 300 characters of the webpage text to check that it's working\n",
    "    print(r.status_code)\n",
    "    print(r.text[:300])\n",
    "    \n",
    "    #process the html page with Beautiful Soup, usign the lxml library\n",
    "    soupextra = BeautifulSoup(r.text, 'lxml')\n",
    "    \n",
    "    #Pulling out the table data from the page and storing it in a variable\n",
    "    #we can get away with with soup.table here because there's only one table on the page\n",
    "    paper_results_rows = soupextra.find_all('tr')\n",
    "    \n",
    "    #a loop to pull out all the relevant data - the square bracket 1: means miss out one row at the start\n",
    "    for tr in paper_results_rows[1:]:\n",
    "        td = tr.find_all('td') \n",
    "        row = [i.text for i in td]\n",
    "        # This structure isolates each piece of row data item by its column in the table and converts it into a string.    \n",
    "        Paper_code = str(td[0].get_text()) \n",
    "        Year = str(td[1].get_text())\n",
    "        Title = str(td[2].get_text())\n",
    "        Points = str(td[3].get_text())\n",
    "        Teaching_period = str(td[4].get_text())    \n",
    "    \n",
    "        #Check that its working\n",
    "        print (Paper_code, Year, Title, Points, Teaching_period)\n",
    "    \n",
    "        #write all the results to the csv file\n",
    "        with open(\"CombinedPaper_Results_Test.csv\", \"a\", encoding='UTF-8',newline='\\n') as fd:  \n",
    "            csvwriter = csv.writer(fd)\n",
    "            csvwriter.writerow([Paper_code, Year, Title, Points, Teaching_period])"
   ]
  },
  {
   "cell_type": "code",
   "execution_count": null,
   "metadata": {},
   "outputs": [],
   "source": []
  }
 ],
 "metadata": {
  "kernelspec": {
   "display_name": "Python 3",
   "language": "python",
   "name": "python3"
  },
  "language_info": {
   "codemirror_mode": {
    "name": "ipython",
    "version": 3
   },
   "file_extension": ".py",
   "mimetype": "text/x-python",
   "name": "python",
   "nbconvert_exporter": "python",
   "pygments_lexer": "ipython3",
   "version": "3.7.4"
  },
  "toc": {
   "base_numbering": 1,
   "nav_menu": {},
   "number_sections": true,
   "sideBar": true,
   "skip_h1_title": false,
   "title_cell": "Table of Contents",
   "title_sidebar": "Contents",
   "toc_cell": false,
   "toc_position": {},
   "toc_section_display": true,
   "toc_window_display": false
  }
 },
 "nbformat": 4,
 "nbformat_minor": 4
}
